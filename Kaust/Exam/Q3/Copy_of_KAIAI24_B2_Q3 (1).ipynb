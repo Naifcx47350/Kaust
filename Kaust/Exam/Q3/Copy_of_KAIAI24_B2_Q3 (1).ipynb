{
  "nbformat": 4,
  "nbformat_minor": 0,
  "metadata": {
    "colab": {
      "provenance": [],
      "gpuType": "T4"
    },
    "kernelspec": {
      "name": "python3",
      "display_name": "Python 3"
    },
    "language_info": {
      "name": "python"
    },
    "accelerator": "GPU"
  },
  "cells": [
    {
      "cell_type": "markdown",
      "source": [
        "## Task: Train an EMNIST classifier\n",
        "\n",
        "EMNIST (or extended MNIST) is just like MNIST, a bunch of handwritten images, except instead of just digits (0-9) it also has uppercase and lowercase characters.\n",
        "\n",
        "You are provided with the code to load the EMNIST train and split **datasets**\n",
        "\n",
        "Write and train a classifier for EMNIST. Make sure to\n",
        "\n",
        "- Show how your loss(es) dropped during training.\n",
        "- Show final performance of your model on untrained data.\n",
        "- Maintain good code quality."
      ],
      "metadata": {
        "id": "zemWtDr8gVOf"
      }
    },
    {
      "cell_type": "code",
      "source": [
        "import torch\n",
        "import torch.nn as nn\n",
        "import torch.optim as optim\n",
        "import os\n",
        "\n",
        "import matplotlib.pyplot as plt\n",
        "import numpy as np\n",
        "\n",
        "import torchvision\n",
        "from torchvision.datasets import EMNIST\n",
        "import torchvision.transforms.functional as F\n",
        "import torch.nn.functional as Fn\n",
        "import torch.nn.functional as F\n",
        "from torchvision import transforms\n",
        "from torch.utils.data import DataLoader, Subset\n",
        "from torch.utils.data import Dataset\n",
        "\n",
        "from torch.optim import Adam"
      ],
      "metadata": {
        "id": "4GQMlmw2hwbn"
      },
      "execution_count": 1,
      "outputs": []
    },
    {
      "cell_type": "code",
      "source": [
        "train_data = EMNIST(root='emnist_data/', split='byclass', download=True)\n",
        "test_data = EMNIST(root='emnist_data/', split='byclass', download=True, train=False)"
      ],
      "metadata": {
        "id": "InCfHKZme7ga"
      },
      "execution_count": 2,
      "outputs": []
    },
    {
      "cell_type": "code",
      "source": [
        "# This cell is for demo purposes. feel free to remove it if you want.\n",
        "print('Number of classes in dataset:', len(train_data.classes))\n",
        "print('Unique labels:', train_data.classes)\n",
        "\n",
        "demo_img, demo_label = train_data[9]\n",
        "\n",
        "print(demo_label)\n",
        "torchvision.transforms.functional.resize(demo_img, (255, 255))"
      ],
      "metadata": {
        "colab": {
          "base_uri": "https://localhost:8080/",
          "height": 347
        },
        "id": "udb4rY5Vhaau",
        "outputId": "600cd504-1237-4449-b2a7-0b9734d78889"
      },
      "execution_count": 3,
      "outputs": [
        {
          "output_type": "stream",
          "name": "stdout",
          "text": [
            "Number of classes in dataset: 62\n",
            "Unique labels: ['0', '1', '2', '3', '4', '5', '6', '7', '8', '9', 'A', 'B', 'C', 'D', 'E', 'F', 'G', 'H', 'I', 'J', 'K', 'L', 'M', 'N', 'O', 'P', 'Q', 'R', 'S', 'T', 'U', 'V', 'W', 'X', 'Y', 'Z', 'a', 'b', 'c', 'd', 'e', 'f', 'g', 'h', 'i', 'j', 'k', 'l', 'm', 'n', 'o', 'p', 'q', 'r', 's', 't', 'u', 'v', 'w', 'x', 'y', 'z']\n",
            "4\n"
          ]
        },
        {
          "output_type": "execute_result",
          "data": {
            "text/plain": [
              "<PIL.Image.Image image mode=L size=255x255>"
            ],
            "image/png": "[encoded data removed]"
          },
          "metadata": {},
          "execution_count": 3
        }
      ]
    },
    {
      "cell_type": "code",
      "source": [
        "# Transformations for the EMNIST dataset\n",
        "transform = transforms.Compose([\n",
        "    transforms.ToTensor(),\n",
        "])\n",
        "\n",
        "# Load the datasets\n",
        "train_data = EMNIST(root='emnist_data/', split='byclass', train=True, download=True, transform=transform)\n",
        "test_data = EMNIST(root='emnist_data/', split='byclass', train=False, download=True, transform=transform)\n",
        "\n",
        "# Define the size of the subset as a fraction of the original dataset\n",
        "subset_fraction = 0.1 ## You can play with this to get a bigger or smaller subset\n",
        "\n",
        "# Create indices for the training subset\n",
        "train_indices = np.random.choice(len(train_data), int(len(train_data) * subset_fraction), replace=False)\n",
        "\n",
        "# Create the training subset\n",
        "train_subset = Subset(train_data, train_indices)\n",
        "\n",
        "# For the test set, you can do the same or use the full test set\n",
        "test_indices = np.random.choice(len(test_data), int(len(test_data) * subset_fraction), replace=False)\n",
        "test_subset = Subset(test_data, test_indices)\n",
        "\n",
        "# Check the size of the subset\n",
        "print(f\"Training subset size: {len(train_subset)}\")\n",
        "print(f\"Test subset size: {len(test_subset)}\")\n",
        "\n",
        "# Define the DataLoaders\n",
        "train_loader = DataLoader(train_subset, batch_size=32, shuffle=True)\n",
        "test_loader = DataLoader(test_subset, batch_size=32, shuffle=False)"
      ],
      "metadata": {
        "id": "Ia6MAyxqhiAi",
        "colab": {
          "base_uri": "https://localhost:8080/"
        },
        "outputId": "dec9b2fa-d081-4acc-d400-6d44bd40d184"
      },
      "execution_count": 4,
      "outputs": [
        {
          "output_type": "stream",
          "name": "stdout",
          "text": [
            "Training subset size: 69793\n",
            "Test subset size: 11632\n"
          ]
        }
      ]
    },
    {
      "cell_type": "code",
      "source": [
        "class MyMNISTClassifier(nn.Module):\n",
        "  def __init__(self, input_size):\n",
        "    super(MyMNISTClassifier, self).__init__()\n",
        "\n",
        "\n",
        "    self.linear1 = nn.Linear(input_size, 512)\n",
        "\n",
        "    self.linear2 = nn.Linear(512, 128)\n",
        "\n",
        "    self.linear3 = nn.Linear(128, 64)\n",
        "\n",
        "    self.linear4 = nn.Linear(64, 62)\n",
        "\n",
        "  def forward(self, x):\n",
        "\n",
        "\n",
        "    x = torch.relu(self.linear1(x))\n",
        "\n",
        "    x = torch.relu(self.linear2(x))\n",
        "\n",
        "    x = torch.relu(self.linear3(x))\n",
        "\n",
        "    x = self.linear4(x)\n",
        "    return x"
      ],
      "metadata": {
        "id": "uDNeCTtXva1y"
      },
      "execution_count": 5,
      "outputs": []
    },
    {
      "cell_type": "code",
      "source": [
        "device = 'cuda' if torch.cuda.is_available() else 'cpu'\n",
        "input_size = 28 * 28\n",
        "model = MyMNISTClassifier(input_size).to(device)\n",
        "\n",
        "num_epochs = 10\n",
        "lr = 1e-3\n",
        "\n",
        "train_losses = []\n",
        "val_losses = []\n",
        "\n",
        "optimizer = Adam(model.parameters(), lr=lr)\n",
        "criterion = nn.CrossEntropyLoss()\n",
        "\n",
        "model.to(device)\n",
        "\n",
        "print(f'Using device {device}')\n",
        "\n"
      ],
      "metadata": {
        "colab": {
          "base_uri": "https://localhost:8080/"
        },
        "id": "g064YXKSvbi2",
        "outputId": "55ee12b9-f389-4b64-a5ae-7e490641af37"
      },
      "execution_count": 6,
      "outputs": [
        {
          "output_type": "stream",
          "name": "stdout",
          "text": [
            "Using device cuda\n"
          ]
        }
      ]
    },
    {
      "cell_type": "code",
      "source": [
        "device"
      ],
      "metadata": {
        "colab": {
          "base_uri": "https://localhost:8080/",
          "height": 36
        },
        "id": "liw4AHs5ztrN",
        "outputId": "c051af59-a868-4cee-a163-44c7d58ba656"
      },
      "execution_count": 7,
      "outputs": [
        {
          "output_type": "execute_result",
          "data": {
            "text/plain": [
              "'cuda'"
            ],
            "application/vnd.google.colaboratory.intrinsic+json": {
              "type": "string"
            }
          },
          "metadata": {},
          "execution_count": 7
        }
      ]
    },
    {
      "cell_type": "code",
      "source": [
        "\n",
        "%%time\n",
        "for epoch_no in range(num_epochs):\n",
        "\n",
        "  model.train()\n",
        "  epoch_weighted_loss = 0\n",
        "\n",
        "  for batch_X, batch_y in train_loader:\n",
        "\n",
        "    batch_X = batch_X.view(-1, 28 * 28)\n",
        "\n",
        "\n",
        "    batch_X = batch_X.to(device)\n",
        "    batch_y = batch_y.to(device)\n",
        "\n",
        "\n",
        "    batch_y_probs = model(batch_X)\n",
        "\n",
        "    loss = criterion(batch_y_probs, batch_y)\n",
        "\n",
        "\n",
        "    optimizer.zero_grad()\n",
        "\n",
        "    loss.backward()\n",
        "\n",
        "\n",
        "    optimizer.step()\n",
        "\n",
        "    epoch_weighted_loss += len(batch_y) * loss.item()\n",
        "\n",
        "  epoch_loss = epoch_weighted_loss/len(train_loader.dataset)\n",
        "\n",
        "  train_losses.append(epoch_loss)\n",
        "\n",
        "\n",
        "\n",
        "\n",
        "  model.eval()\n",
        "  correctly_labelled = 0\n",
        "\n",
        "  with torch.no_grad():\n",
        "    val_epoch_weighted_loss = 0\n",
        "\n",
        "    for val_batch_X, val_batch_y in test_loader:\n",
        "\n",
        "        val_batch_X = val_batch_X.view(-1, 28 * 28)\n",
        "\n",
        "        val_batch_X = val_batch_X.to(device)\n",
        "        val_batch_y = val_batch_y.to(device)\n",
        "\n",
        "\n",
        "        val_batch_y_probs = model(val_batch_X)\n",
        "\n",
        "        loss = criterion(val_batch_y_probs, val_batch_y)\n",
        "\n",
        "        val_epoch_weighted_loss += len(val_batch_y) * loss.item()\n",
        "\n",
        "\n",
        "        val_batch_y_pred = val_batch_y_probs.argmax(dim=1)\n",
        "\n",
        "        correctly_labelled += (val_batch_y_pred == val_batch_y).sum().item()\n",
        "\n",
        "  val_epoch_loss = val_epoch_weighted_loss/len(test_loader.dataset)\n",
        "  val_losses.append(val_epoch_loss)\n",
        "\n",
        "  print(f'Epoch: {epoch_no}, train_loss={epoch_loss}, val_loss={val_epoch_loss}. labelled {correctly_labelled}/{len(test_loader.dataset)} correctly ({correctly_labelled/len(test_loader.dataset)*100}% accuracy)')\n",
        "\n",
        "print(f'Training complete on device {device}.')\n",
        ""
      ],
      "metadata": {
        "colab": {
          "base_uri": "https://localhost:8080/"
        },
        "id": "AwaYCcZYvbpX",
        "outputId": "45ac1a0c-3f30-4d9d-b4fc-ee2cf96ff933"
      },
      "execution_count": 8,
      "outputs": [
        {
          "output_type": "stream",
          "name": "stdout",
          "text": [
            "Epoch: 0, train_loss=1.1111647860858658, val_loss=0.7270540406484224. labelled 8887/11632 correctly (76.40130674002751% accuracy)\n",
            "Epoch: 1, train_loss=0.6583090948556027, val_loss=0.6231390620278197. labelled 9266/11632 correctly (79.6595598349381% accuracy)\n",
            "Epoch: 2, train_loss=0.5655935713355037, val_loss=0.5770684483536664. labelled 9376/11632 correctly (80.60522696011004% accuracy)\n",
            "Epoch: 3, train_loss=0.5049323217415139, val_loss=0.548854470416965. labelled 9427/11632 correctly (81.04367262723521% accuracy)\n",
            "Epoch: 4, train_loss=0.46649064698920006, val_loss=0.567774521845407. labelled 9429/11632 correctly (81.06086657496562% accuracy)\n",
            "Epoch: 5, train_loss=0.4343920178671809, val_loss=0.5557058035835439. labelled 9503/11632 correctly (81.69704264099038% accuracy)\n",
            "Epoch: 6, train_loss=0.40543132678461913, val_loss=0.5699791689358519. labelled 9513/11632 correctly (81.78301237964236% accuracy)\n",
            "Epoch: 7, train_loss=0.3873691899691838, val_loss=0.5780543386526252. labelled 9482/11632 correctly (81.51650618982119% accuracy)\n",
            "Epoch: 8, train_loss=0.36945246721142966, val_loss=0.5815093359683206. labelled 9437/11632 correctly (81.12964236588721% accuracy)\n",
            "Epoch: 9, train_loss=0.35068539122276116, val_loss=0.6380882425108179. labelled 9403/11632 correctly (80.83734525447042% accuracy)\n",
            "Training complete on device cuda.\n",
            "CPU times: user 2min 18s, sys: 1.44 s, total: 2min 20s\n",
            "Wall time: 2min 30s\n"
          ]
        }
      ]
    },
    {
      "cell_type": "code",
      "source": [
        "\n",
        "plt.plot(train_losses, label='Train Loss')\n",
        "plt.plot(val_losses , label='Val Loss')\n",
        "\n",
        "plt.ylabel('Loss (CCE)')\n",
        "plt.xlabel('Epoch')\n",
        "\n",
        "plt.legend()\n",
        "plt.show()"
      ],
      "metadata": {
        "colab": {
          "base_uri": "https://localhost:8080/",
          "height": 449
        },
        "id": "cPWVi8aUvbrf",
        "outputId": "faaa9b63-2da5-4b48-ad61-3d59c18cb23e"
      },
      "execution_count": 9,
      "outputs": [
        {
          "output_type": "display_data",
          "data": {
            "text/plain": [
              "<Figure size 640x480 with 1 Axes>"
            ],
            "image/png": "[encoded data removed]"
          },
          "metadata": {}
        }
      ]
    },
    {
      "cell_type": "code",
      "source": [
        "print(val_batch_X.shape, val_batch_y.shape)\n",
        "print(val_batch_y_probs.shape)\n",
        "print(val_batch_y_pred.shape)\n",
        "\n",
        "print(\"\\n\\nTo verify softmax converts inputs into probabilities (sum of which is 1), let's sum those probabilities and see if we get 1's: \\n\")\n",
        "print(f'{val_batch_y_probs.sum(1)=}')\n",
        "\n",
        "print(f'\\n{val_batch_y_probs.sum(1).shape=}')\n",
        "\n",
        "print('\\n\\nLets see argmax in action')\n",
        "print(\"Here's one of the input to argmax\\n\")\n",
        "test_idx = 15\n",
        "print(val_batch_y_probs[test_idx].cpu())\n",
        "print(\"\\n\\nHere's its output\")\n",
        "print(val_batch_y_pred[test_idx].cpu())"
      ],
      "metadata": {
        "colab": {
          "base_uri": "https://localhost:8080/"
        },
        "id": "yPejw3Qmvs60",
        "outputId": "663dac9b-9fc4-47bf-f4cb-f5962e2a0526"
      },
      "execution_count": 10,
      "outputs": [
        {
          "output_type": "stream",
          "name": "stdout",
          "text": [
            "torch.Size([16, 784]) torch.Size([16])\n",
            "torch.Size([16, 62])\n",
            "torch.Size([16])\n",
            "\n",
            "\n",
            "To verify softmax converts inputs into probabilities (sum of which is 1), let's sum those probabilities and see if we get 1's: \n",
            "\n",
            "val_batch_y_probs.sum(1)=tensor([-1244.1613,  -721.4523,  -623.9423,  -809.6530, -1282.4954, -1333.9177,\n",
            "         -969.4766,  -966.1157, -1280.1436,  -620.2872,  -707.8445,  -923.9098,\n",
            "        -1153.6071, -1020.6995,  -549.3809,  -838.0607], device='cuda:0')\n",
            "\n",
            "val_batch_y_probs.sum(1).shape=torch.Size([16])\n",
            "\n",
            "\n",
            "Lets see argmax in action\n",
            "Here's one of the input to argmax\n",
            "\n",
            "tensor([-15.6423,  -5.3824, -18.3752, -13.8754,  11.7836,  -6.2653, -17.1229,\n",
            "         -5.5922, -15.5847,  -0.5559, -16.8852, -23.7048, -19.0651, -30.9800,\n",
            "        -25.1324,  -5.2185, -12.4570, -11.2674, -12.6434, -12.7844, -15.4039,\n",
            "        -27.0816,  -9.9043, -12.9723, -19.8620, -15.4124, -21.2054, -26.1201,\n",
            "        -16.7464,  -5.3653,  -6.0592,  -7.7447, -16.3107, -19.8542,   4.9514,\n",
            "        -37.3935,  -7.2698, -21.7174, -22.2977, -13.1153, -14.4096,  -7.8177,\n",
            "         -4.1825, -12.3533, -18.0714, -10.0658, -12.6803, -13.5861, -15.4270,\n",
            "        -16.3960, -26.9771, -13.3289,  -5.5568, -16.6651,  -7.5426,  -4.3027,\n",
            "         -4.5680,  -7.8195, -15.8373, -17.7765,   4.6066, -23.6673])\n",
            "\n",
            "\n",
            "Here's its output\n",
            "tensor(4)\n"
          ]
        }
      ]
    }
  ]
}